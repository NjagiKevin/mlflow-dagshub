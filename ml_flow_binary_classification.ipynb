{
 "cells": [
  {
   "cell_type": "code",
   "execution_count": 38,
   "id": "295e5486",
   "metadata": {},
   "outputs": [],
   "source": [
    "import numpy as np\n",
    "from sklearn.datasets import make_classification\n",
    "from sklearn.model_selection import train_test_split\n",
    "from sklearn.linear_model import LogisticRegression\n",
    "from sklearn.ensemble import RandomForestClassifier\n",
    "from xgboost import XGBClassifier\n",
    "from sklearn.metrics import classification_report\n",
    "import warnings\n",
    "warnings.filterwarnings('ignore')"
   ]
  },
  {
   "cell_type": "code",
   "execution_count": 39,
   "id": "ac73cd36",
   "metadata": {},
   "outputs": [
    {
     "data": {
      "text/plain": [
       "(array([0, 1]), array([900, 100]))"
      ]
     },
     "execution_count": 39,
     "metadata": {},
     "output_type": "execute_result"
    }
   ],
   "source": [
    "# Step 1: Create an imbalanced binary classification dataset\n",
    "X, y = make_classification(n_samples=1000, n_features=10, n_informative=2, n_redundant=8, \n",
    "                           weights=[0.9, 0.1], flip_y=0, random_state=42)\n",
    "\n",
    "np.unique(y, return_counts=True)"
   ]
  },
  {
   "cell_type": "code",
   "execution_count": 40,
   "id": "0934ac03",
   "metadata": {},
   "outputs": [],
   "source": [
    "# Split the dataset into training and testing sets\n",
    "X_train, X_test, y_train, y_test = train_test_split(X, y, test_size=0.3, stratify=y, random_state=42)"
   ]
  },
  {
   "cell_type": "markdown",
   "id": "027f7e0a",
   "metadata": {},
   "source": [
    "### Experiment 1: Train Logistic Regression Classifier"
   ]
  },
  {
   "cell_type": "code",
   "execution_count": 41,
   "id": "df52d46a",
   "metadata": {
    "scrolled": true
   },
   "outputs": [
    {
     "name": "stdout",
     "output_type": "stream",
     "text": [
      "              precision    recall  f1-score   support\n",
      "\n",
      "           0       0.95      0.96      0.95       270\n",
      "           1       0.60      0.50      0.55        30\n",
      "\n",
      "    accuracy                           0.92       300\n",
      "   macro avg       0.77      0.73      0.75       300\n",
      "weighted avg       0.91      0.92      0.91       300\n",
      "\n"
     ]
    }
   ],
   "source": [
    "log_reg = LogisticRegression(C=1, solver='liblinear')\n",
    "log_reg.fit(X_train, y_train)\n",
    "y_pred_log_reg = log_reg.predict(X_test)\n",
    "print(classification_report(y_test, y_pred_log_reg))"
   ]
  },
  {
   "cell_type": "markdown",
   "id": "1468bab4",
   "metadata": {},
   "source": [
    "### Experiment 2: Train Random Forest Classifier"
   ]
  },
  {
   "cell_type": "code",
   "execution_count": 42,
   "id": "2742e30d",
   "metadata": {
    "scrolled": true
   },
   "outputs": [
    {
     "name": "stdout",
     "output_type": "stream",
     "text": [
      "              precision    recall  f1-score   support\n",
      "\n",
      "           0       0.97      1.00      0.98       270\n",
      "           1       0.95      0.70      0.81        30\n",
      "\n",
      "    accuracy                           0.97       300\n",
      "   macro avg       0.96      0.85      0.89       300\n",
      "weighted avg       0.97      0.97      0.96       300\n",
      "\n"
     ]
    }
   ],
   "source": [
    "rf_clf = RandomForestClassifier(n_estimators=30, max_depth=3)\n",
    "rf_clf.fit(X_train, y_train)\n",
    "y_pred_rf = rf_clf.predict(X_test)\n",
    "print(classification_report(y_test, y_pred_rf))"
   ]
  },
  {
   "cell_type": "markdown",
   "id": "7db18915",
   "metadata": {},
   "source": [
    "### Experiment 3: Train XGBoost"
   ]
  },
  {
   "cell_type": "code",
   "execution_count": 43,
   "id": "fa3fe3e3",
   "metadata": {},
   "outputs": [
    {
     "name": "stdout",
     "output_type": "stream",
     "text": [
      "              precision    recall  f1-score   support\n",
      "\n",
      "           0       0.98      1.00      0.99       270\n",
      "           1       0.96      0.80      0.87        30\n",
      "\n",
      "    accuracy                           0.98       300\n",
      "   macro avg       0.97      0.90      0.93       300\n",
      "weighted avg       0.98      0.98      0.98       300\n",
      "\n"
     ]
    }
   ],
   "source": [
    "xgb_clf = XGBClassifier(use_label_encoder=False, eval_metric='logloss')\n",
    "xgb_clf.fit(X_train, y_train)\n",
    "y_pred_xgb = xgb_clf.predict(X_test)\n",
    "print(classification_report(y_test, y_pred_xgb))"
   ]
  },
  {
   "cell_type": "markdown",
   "id": "b70bbef1",
   "metadata": {},
   "source": [
    "### Experiment 4: Handle class imbalance using SMOTETomek and then Train XGBoost"
   ]
  },
  {
   "cell_type": "code",
   "execution_count": 44,
   "id": "5ecbe6a5",
   "metadata": {},
   "outputs": [
    {
     "data": {
      "text/plain": [
       "(array([0, 1]), array([619, 619]))"
      ]
     },
     "execution_count": 44,
     "metadata": {},
     "output_type": "execute_result"
    }
   ],
   "source": [
    "from imblearn.combine import SMOTETomek\n",
    "\n",
    "smt = SMOTETomek(random_state=42)\n",
    "X_train_res, y_train_res = smt.fit_resample(X_train, y_train)\n",
    "\n",
    "np.unique(y_train_res, return_counts=True)"
   ]
  },
  {
   "cell_type": "code",
   "execution_count": 45,
   "id": "2b931191",
   "metadata": {
    "scrolled": true
   },
   "outputs": [
    {
     "name": "stdout",
     "output_type": "stream",
     "text": [
      "              precision    recall  f1-score   support\n",
      "\n",
      "           0       0.98      0.98      0.98       270\n",
      "           1       0.81      0.83      0.82        30\n",
      "\n",
      "    accuracy                           0.96       300\n",
      "   macro avg       0.89      0.91      0.90       300\n",
      "weighted avg       0.96      0.96      0.96       300\n",
      "\n"
     ]
    }
   ],
   "source": [
    "xgb_clf = XGBClassifier(use_label_encoder=False, eval_metric='logloss')\n",
    "xgb_clf.fit(X_train_res, y_train_res)\n",
    "y_pred_xgb = xgb_clf.predict(X_test)\n",
    "print(classification_report(y_test, y_pred_xgb))"
   ]
  },
  {
   "cell_type": "markdown",
   "id": "8ac546b4",
   "metadata": {},
   "source": [
    "<h2 align=\"center\" style=\"color:blue\">Track Experiments Using MLFlow</h2>"
   ]
  },
  {
   "cell_type": "code",
   "execution_count": 46,
   "id": "9fc788a3",
   "metadata": {},
   "outputs": [],
   "source": [
    "# List to hold different models, their configurations, and data\n",
    "models = [\n",
    "    (\"Logistic Regression\", \n",
    "      LogisticRegression(C=1, solver='liblinear'), \n",
    "      (X_train, y_train), \n",
    "      (X_test, y_test)\n",
    "    ),\n",
    "\n",
    "    (\"Random Forest\",\n",
    "      RandomForestClassifier(n_estimators=30, max_depth=3), \n",
    "      (X_train, y_train), \n",
    "      (X_test, y_test)),\n",
    "\n",
    "    (\"XGBClassifier\", \n",
    "     XGBClassifier(use_label_encoder=False, eval_metric='logloss'), \n",
    "     (X_train, y_train), \n",
    "     (X_test, y_test)\n",
    "    ),\n",
    "    \n",
    "    (\"XGBClassifier With SMOTE\", \n",
    "     XGBClassifier(use_label_encoder=False, eval_metric='logloss'), \n",
    "     (X_train_res, y_train_res), \n",
    "     (X_test, y_test)\n",
    "    )\n",
    "]"
   ]
  },
  {
   "cell_type": "code",
   "execution_count": 47,
   "id": "1a827a88",
   "metadata": {},
   "outputs": [],
   "source": [
    "# List to store classification reports for each model\n",
    "reports = []\n",
    "\n",
    "# Loop over each model\n",
    "for model_name, model, train_set, test_set in models:\n",
    "    X_train, y_train = train_set  # Unpack training data\n",
    "    X_test, y_test = test_set  # Unpack test data\n",
    "\n",
    "    model.fit(X_train, y_train)  # Train the model\n",
    "    y_pred = model.predict(X_test)  # Predict on test data\n",
    "\n",
    "    # Generate classification report\n",
    "    report = classification_report(y_test, y_pred, output_dict=True)\n",
    "    reports.append(report)  # Store the report"
   ]
  },
  {
   "cell_type": "markdown",
   "id": "b43782d5",
   "metadata": {},
   "source": [
    "### MLFlow\n"
   ]
  },
  {
   "cell_type": "code",
   "execution_count": 48,
   "id": "29ca91b0",
   "metadata": {},
   "outputs": [],
   "source": [
    "import mlflow\n",
    "import mlflow.sklearn\n",
    "import mlflow.xgboost"
   ]
  },
  {
   "cell_type": "code",
   "execution_count": 49,
   "id": "0c2c2855",
   "metadata": {},
   "outputs": [
    {
     "name": "stderr",
     "output_type": "stream",
     "text": [
      "2024/10/15 14:40:43 INFO mlflow.tracking.fluent: Experiment with name 'Anomaly-Detection' does not exist. Creating a new experiment.\n"
     ]
    }
   ],
   "source": [
    "# Set the experiment name in MLFlow\n",
    "mlflow.set_experiment(\"Anomaly-Detection\") # All runs will be grouped under this experiment\n",
    "\n",
    "# Set the MLflow tracking uri ro the local MLflow server\n",
    "mlflow.set_tracking_uri(uri=\"http://127.0.0.1:5000\")"
   ]
  },
  {
   "cell_type": "code",
   "execution_count": 50,
   "id": "420f2511",
   "metadata": {
    "scrolled": false
   },
   "outputs": [
    {
     "name": "stderr",
     "output_type": "stream",
     "text": [
      "2024/10/15 14:40:48 WARNING mlflow.models.model: Model logged without a signature and input example. Please set `input_example` parameter when logging the model to auto infer the model signature.\n",
      "2024/10/15 14:40:48 INFO mlflow.tracking._tracking_service.client: 🏃 View run Logistic Regression at: http://127.0.0.1:5000/#/experiments/723941634219526615/runs/aecb68c812464ddd846dc4d42ba2d863.\n",
      "2024/10/15 14:40:48 INFO mlflow.tracking._tracking_service.client: 🧪 View experiment at: http://127.0.0.1:5000/#/experiments/723941634219526615.\n",
      "2024/10/15 14:40:52 WARNING mlflow.models.model: Model logged without a signature and input example. Please set `input_example` parameter when logging the model to auto infer the model signature.\n",
      "2024/10/15 14:40:52 INFO mlflow.tracking._tracking_service.client: 🏃 View run Random Forest at: http://127.0.0.1:5000/#/experiments/723941634219526615/runs/4df8d9a0230c45e8a5479447e9a30d15.\n",
      "2024/10/15 14:40:52 INFO mlflow.tracking._tracking_service.client: 🧪 View experiment at: http://127.0.0.1:5000/#/experiments/723941634219526615.\n",
      "2024/10/15 14:40:57 WARNING mlflow.models.model: Model logged without a signature and input example. Please set `input_example` parameter when logging the model to auto infer the model signature.\n",
      "2024/10/15 14:40:57 INFO mlflow.tracking._tracking_service.client: 🏃 View run XGBClassifier at: http://127.0.0.1:5000/#/experiments/723941634219526615/runs/600a2669f1314ecd87e15a2882877b13.\n",
      "2024/10/15 14:40:57 INFO mlflow.tracking._tracking_service.client: 🧪 View experiment at: http://127.0.0.1:5000/#/experiments/723941634219526615.\n",
      "2024/10/15 14:41:02 WARNING mlflow.models.model: Model logged without a signature and input example. Please set `input_example` parameter when logging the model to auto infer the model signature.\n",
      "2024/10/15 14:41:02 INFO mlflow.tracking._tracking_service.client: 🏃 View run XGBClassifier With SMOTE at: http://127.0.0.1:5000/#/experiments/723941634219526615/runs/37b55e88a26d4f5dac3bb68869b005ab.\n",
      "2024/10/15 14:41:02 INFO mlflow.tracking._tracking_service.client: 🧪 View experiment at: http://127.0.0.1:5000/#/experiments/723941634219526615.\n"
     ]
    }
   ],
   "source": [
    "# Log models and their performance to MLflow\n",
    "for i, element in enumerate(models):\n",
    "    model_name = element[0]  # Get model name\n",
    "    model = element[1]  # Get model instance\n",
    "    report = reports[i]  # Get classification report\n",
    "\n",
    "    # Start an MLflow run for each model\n",
    "    with mlflow.start_run(run_name=model_name):\n",
    "        # Log hyperparameters (for scikit-learn models)\n",
    "        mlflow.log_params(model.get_params())\n",
    "\n",
    "        # Log key metrics from the classification report\n",
    "        mlflow.log_metric('accuracy', report['accuracy'])\n",
    "        mlflow.log_metric('recall_class_1', report['1']['recall'])\n",
    "        mlflow.log_metric('recall_class_0', report['0']['recall'])\n",
    "        mlflow.log_metric('f1_score_macro', report['macro avg']['f1-score'])\n",
    "\n",
    "        # Log the model to MLflow\n",
    "        if \"XGB\" in model_name:\n",
    "            mlflow.xgboost.log_model(model, \"model\")\n",
    "        else:\n",
    "            mlflow.sklearn.log_model(model, \"model\")"
   ]
  },
  {
   "cell_type": "markdown",
   "id": "a10c2623",
   "metadata": {},
   "source": [
    "### Register the Model\n"
   ]
  },
  {
   "cell_type": "code",
   "execution_count": 55,
   "id": "795ba2b5",
   "metadata": {},
   "outputs": [
    {
     "name": "stderr",
     "output_type": "stream",
     "text": [
      "Successfully registered model 'XGB-Smote'.\n",
      "2024/10/15 14:45:53 INFO mlflow.store.model_registry.abstract_store: Waiting up to 300 seconds for model version to finish creation. Model name: XGB-Smote, version 1\n"
     ]
    },
    {
     "name": "stdout",
     "output_type": "stream",
     "text": [
      "Successfully registered model 'XGB-Smote'.\n"
     ]
    },
    {
     "name": "stderr",
     "output_type": "stream",
     "text": [
      "Created version '1' of model 'XGB-Smote'.\n"
     ]
    }
   ],
   "source": [
    "# Register the model with MLflow\n",
    "model_name = \"XGB-Smote\"\n",
    "run_id = input(\"Enter Run ID: \")  # Prompt for Run ID\n",
    "model_uri = f\"runs:/{run_id}/model\" # model URI for registration\n",
    "\n",
    "# Register the model in MLflow model registry\n",
    "result = mlflow.register_model(\n",
    "    model_uri, model_name\n",
    ")\n",
    "\n",
    "print(f\"Successfully registered model '{model_name}'.\")"
   ]
  },
  {
   "cell_type": "markdown",
   "id": "dbaa3982",
   "metadata": {},
   "source": [
    "### Loading the model\n"
   ]
  },
  {
   "cell_type": "code",
   "execution_count": 56,
   "id": "a066382a",
   "metadata": {},
   "outputs": [
    {
     "name": "stdout",
     "output_type": "stream",
     "text": [
      "[0 0 0 0]\n"
     ]
    }
   ],
   "source": [
    "# Load the registered model by its name and version\n",
    "model_name = \"XGB-Smote\"\n",
    "model_version = 1  # Specify model version\n",
    "model_uri = f\"models:/{model_name}/{model_version}\"  # URI for loading the model\n",
    "\n",
    "# Load the XGBoost model from MLflow registry\n",
    "load_model = mlflow.xgboost.load_model(model_uri)\n",
    "\n",
    "# Make predictions using the loaded model\n",
    "y_pred = load_model.predict(X_test)\n",
    "\n",
    "# Display first 4 predictions\n",
    "print(y_pred[:4])"
   ]
  },
  {
   "cell_type": "markdown",
   "id": "129f0e34",
   "metadata": {},
   "source": [
    "### Dev to Prod Environment"
   ]
  },
  {
   "cell_type": "code",
   "execution_count": 61,
   "id": "58d93484",
   "metadata": {},
   "outputs": [
    {
     "name": "stderr",
     "output_type": "stream",
     "text": [
      "Registered model 'Anomaly-Detection-Prod' already exists. Creating a new version of this model...\n",
      "Copied version '1' of model 'XGB-Smote' to version '2' of model 'Anomaly-Detection-Prod'.\n"
     ]
    },
    {
     "data": {
      "text/plain": [
       "<ModelVersion: aliases=[], creation_timestamp=1728993560962, current_stage='None', description='', last_updated_timestamp=1728993560962, name='Anomaly-Detection-Prod', run_id='37b55e88a26d4f5dac3bb68869b005ab', run_link='', source='models:/XGB-Smote/1', status='READY', status_message='', tags={}, user_id='', version='2'>"
      ]
     },
     "execution_count": 61,
     "metadata": {},
     "output_type": "execute_result"
    }
   ],
   "source": [
    "# Create the source model URI for the development model\n",
    "dev_model_uri=f\"models:/{model_name}/{model_version}\"\n",
    "\n",
    "prod_model=\"Anomaly-Detection-Prod\"\n",
    "\n",
    "# Initialize the MLflow client\n",
    "client=mlflow.MlflowClient()\n",
    "\n",
    "# Copy the model version\n",
    "client.copy_model_version(src_model_uri=dev_model_uri, dst_name=prod_model)"
   ]
  },
  {
   "cell_type": "code",
   "execution_count": 66,
   "id": "eef34a5a",
   "metadata": {},
   "outputs": [
    {
     "name": "stdout",
     "output_type": "stream",
     "text": [
      "[0 0 0 0]\n"
     ]
    }
   ],
   "source": [
    "# Load the registered production model by its name and version\n",
    "model_version = 2  # Specify model version\n",
    "model_uri = f\"models:/{prod_model}/{model_version}\"  # URI for loading the model\n",
    "\n",
    "# Load the Production model from MLflow registry\n",
    "load_model = mlflow.xgboost.load_model(model_uri)\n",
    "\n",
    "# Make predictions using the loaded model\n",
    "y_pred = load_model.predict(X_test)\n",
    "\n",
    "# Display first 4 predictions\n",
    "print(y_pred[:4])"
   ]
  }
 ],
 "metadata": {
  "kernelspec": {
   "display_name": "venv",
   "language": "python",
   "name": "python3"
  },
  "language_info": {
   "codemirror_mode": {
    "name": "ipython",
    "version": 3
   },
   "file_extension": ".py",
   "mimetype": "text/x-python",
   "name": "python",
   "nbconvert_exporter": "python",
   "pygments_lexer": "ipython3",
   "version": "3.12.5"
  }
 },
 "nbformat": 4,
 "nbformat_minor": 5
}
